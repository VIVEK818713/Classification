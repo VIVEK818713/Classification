{
  "nbformat": 4,
  "nbformat_minor": 0,
  "metadata": {
    "colab": {
      "name": "2. Decision Tree visualization",
      "provenance": [],
      "authorship_tag": "ABX9TyO9HaquAUu8Jxbk+igx1ppO",
      "include_colab_link": true
    },
    "kernelspec": {
      "name": "python3",
      "display_name": "Python 3"
    },
    "language_info": {
      "name": "python"
    }
  },
  "cells": [
    {
      "cell_type": "markdown",
      "metadata": {
        "id": "view-in-github",
        "colab_type": "text"
      },
      "source": [
        "<a href=\"https://colab.research.google.com/github/VIVEK818713/Classification/blob/main/2_Decision_Tree_visualization.ipynb\" target=\"_parent\"><img src=\"https://colab.research.google.com/assets/colab-badge.svg\" alt=\"Open In Colab\"/></a>"
      ]
    },
    {
      "cell_type": "markdown",
      "source": [
        "# 1. print text representation of the tree with sklearn.tree.export_text method\n",
        "# 2. plot with sklearn.tree.plot_tree method (matplotlib needed)\n",
        "# 3. plot with sklearn.tree.export_graphviz method (graphviz needed)\n",
        "# 4.plot with dtreeviz package (dtreeviz and graphviz needed)"
      ],
      "metadata": {
        "id": "34njSDUi5qj7"
      }
    },
    {
      "cell_type": "markdown",
      "source": [
        "## 1. Print Text Representation"
      ],
      "metadata": {
        "id": "X6IN4FFa5cy7"
      }
    },
    {
      "cell_type": "code",
      "execution_count": null,
      "metadata": {
        "id": "lsjflYoZ5JxD"
      },
      "outputs": [],
      "source": [
        "from matplotlib import pyplot as plt\n",
        "from sklearn import datasets\n",
        "from sklearn.tree import DecisionTreeClassifier \n",
        "from sklearn import tree"
      ]
    },
    {
      "cell_type": "code",
      "source": [
        "# Prepare the data data\n",
        "iris = datasets.load_iris()\n",
        "X = iris.data\n",
        "y = iris.target"
      ],
      "metadata": {
        "id": "kUcbcxSB53BX"
      },
      "execution_count": null,
      "outputs": []
    },
    {
      "cell_type": "code",
      "source": [
        "# Fit the classifier with default hyper-parameters\n",
        "clf = DecisionTreeClassifier(random_state=1234)\n",
        "model = clf.fit(X, y)"
      ],
      "metadata": {
        "id": "NEwJyA6T58-9"
      },
      "execution_count": null,
      "outputs": []
    },
    {
      "cell_type": "code",
      "source": [
        "text_representation = tree.export_text(clf)\n",
        "print(text_representation)"
      ],
      "metadata": {
        "id": "aom0rx0x6EzS"
      },
      "execution_count": null,
      "outputs": []
    },
    {
      "cell_type": "markdown",
      "source": [
        "## If you want to save it to the file, it can be done with following code:"
      ],
      "metadata": {
        "id": "3df2Kpok6WJl"
      }
    },
    {
      "cell_type": "code",
      "source": [
        "with open(\"decistion_tree.log\", \"w\") as fout:\n",
        "    fout.write(text_representation)"
      ],
      "metadata": {
        "id": "5p1Px4fW6Pq1"
      },
      "execution_count": null,
      "outputs": []
    },
    {
      "cell_type": "markdown",
      "source": [
        "## 2. Plot Tree with plot_tree"
      ],
      "metadata": {
        "id": "5HnRmLzD6djW"
      }
    },
    {
      "cell_type": "code",
      "source": [
        "fig = plt.figure(figsize=(25,20))\n",
        "g = tree.plot_tree(clf, \n",
        "                   \n",
        "                   feature_names=iris.feature_names,  \n",
        "                   class_names=iris.target_names,\n",
        "                   filled=True)"
      ],
      "metadata": {
        "id": "WSUqprDr6aJp"
      },
      "execution_count": null,
      "outputs": []
    },
    {
      "cell_type": "markdown",
      "source": [
        "##To save the figure to the .png file:"
      ],
      "metadata": {
        "id": "halNXIX27Kc-"
      }
    },
    {
      "cell_type": "code",
      "source": [
        "fig.savefig(\"decistion_tree.png\")"
      ],
      "metadata": {
        "id": "lySOsRTT6nXk"
      },
      "execution_count": null,
      "outputs": []
    },
    {
      "cell_type": "markdown",
      "source": [
        "###Please notice that I’m using filled=True in the plot_tree. When this parameter is set to True the method uses color to indicate the majority of the class."
      ],
      "metadata": {
        "id": "TrsuxTty7XH2"
      }
    },
    {
      "cell_type": "markdown",
      "source": [
        "## 3. Visualize Decision Tree with graphviz"
      ],
      "metadata": {
        "id": "sEsAF2DU7hSp"
      }
    },
    {
      "cell_type": "markdown",
      "source": [
        "### Please make sure that you have graphviz installed (pip install graphviz). To plot the tree first we need to export it to DOT format with export_graphviz method. Then we can plot it in the notebook or save to the file."
      ],
      "metadata": {
        "id": "mhvnBI8b7o_q"
      }
    },
    {
      "cell_type": "code",
      "source": [
        "import graphviz\n",
        "# DOT data\n",
        "dot_data = tree.export_graphviz(clf, out_file=None, \n",
        "                                feature_names=iris.feature_names,  \n",
        "                                class_names=iris.target_names,\n",
        "                                filled=True)\n",
        "\n",
        "# Draw graph\n",
        "graph = graphviz.Source(dot_data, format=\"png\") \n",
        "graph"
      ],
      "metadata": {
        "id": "gABAsjWr7Qi2"
      },
      "execution_count": null,
      "outputs": []
    },
    {
      "cell_type": "code",
      "source": [
        "graph.render(\"decision_tree_graphivz\")"
      ],
      "metadata": {
        "id": "9TW0IHoo7x-x"
      },
      "execution_count": null,
      "outputs": []
    },
    {
      "cell_type": "code",
      "source": [
        "'decision_tree_graphivz.png'"
      ],
      "metadata": {
        "id": "Es5Miv_B76mO"
      },
      "execution_count": null,
      "outputs": []
    },
    {
      "cell_type": "markdown",
      "source": [
        "## 4. Plot Decision Tree with dtreeviz Package"
      ],
      "metadata": {
        "id": "_1W-fAva8J_8"
      }
    },
    {
      "cell_type": "markdown",
      "source": [
        "###The dtreeviz package is available in github. It can be installed with pip install dtreeviz. It requires graphviz to be installed (but you dont need to manually convert between DOT files and images). To plot the tree just run:"
      ],
      "metadata": {
        "id": "fdoB5Z3W8TP8"
      }
    },
    {
      "cell_type": "code",
      "source": [
        "!pip install dtreeviz"
      ],
      "metadata": {
        "id": "6s2KCza-8eTS"
      },
      "execution_count": null,
      "outputs": []
    },
    {
      "cell_type": "code",
      "source": [
        "from dtreeviz.trees import dtreeviz # remember to load the package\n",
        "\n",
        "viz = dtreeviz(clf, X, y,\n",
        "                target_name=\"target\",\n",
        "                feature_names=iris.feature_names,\n",
        "                class_names=list(iris.target_names))\n",
        "\n",
        "viz"
      ],
      "metadata": {
        "id": "9iJs2y578DX_"
      },
      "execution_count": null,
      "outputs": []
    },
    {
      "cell_type": "markdown",
      "source": [
        "###Save visualization to the file:"
      ],
      "metadata": {
        "id": "eKqd8_FW8r7v"
      }
    },
    {
      "cell_type": "code",
      "source": [
        "viz.save(\"decision_tree.svg\")"
      ],
      "metadata": {
        "id": "U6y4LBZY8ZXY"
      },
      "execution_count": null,
      "outputs": []
    },
    {
      "cell_type": "markdown",
      "source": [
        "# Visualizing the Decision Tree in Regression Task"
      ],
      "metadata": {
        "id": "_c1lVec788IK"
      }
    },
    {
      "cell_type": "code",
      "source": [
        "from sklearn import datasets\n",
        "from sklearn.tree import DecisionTreeRegressor\n",
        "from sklearn import tree"
      ],
      "metadata": {
        "id": "eCxECq1d8vVU"
      },
      "execution_count": null,
      "outputs": []
    },
    {
      "cell_type": "code",
      "source": [
        "# Prepare the data data\n",
        "boston = datasets.load_boston()\n",
        "X = boston.data\n",
        "y = boston.target"
      ],
      "metadata": {
        "id": "BkDZCCNN9APF"
      },
      "execution_count": null,
      "outputs": []
    },
    {
      "cell_type": "markdown",
      "source": [
        "###To keep the size of the tree small, I set max_depth = 3."
      ],
      "metadata": {
        "id": "0wcNatch9GnX"
      }
    },
    {
      "cell_type": "code",
      "source": [
        "# Fit the regressor, set max_depth = 3\n",
        "regr = DecisionTreeRegressor(max_depth=3, random_state=1234)\n",
        "model = regr.fit(X, y)"
      ],
      "metadata": {
        "id": "wYwV_0j69CRW"
      },
      "execution_count": null,
      "outputs": []
    },
    {
      "cell_type": "code",
      "source": [
        "text_representation = tree.export_text(regr)\n",
        "print(text_representation)"
      ],
      "metadata": {
        "id": "c6Q37v369KcL"
      },
      "execution_count": null,
      "outputs": []
    },
    {
      "cell_type": "code",
      "source": [
        "fig = plt.figure(figsize=(20,20))\n",
        "z = tree.plot_tree(regr, feature_names=boston.feature_names, filled=True)"
      ],
      "metadata": {
        "id": "MkinZIG_9MjO"
      },
      "execution_count": null,
      "outputs": []
    },
    {
      "cell_type": "markdown",
      "source": [
        "###Please notice, that the color of the leaf is coresponding to the predicted value."
      ],
      "metadata": {
        "id": "PSWM4B1g9Zbh"
      }
    },
    {
      "cell_type": "code",
      "source": [
        "dot_data = tree.export_graphviz(regr, out_file=None, \n",
        "                                feature_names=boston.feature_names,  \n",
        "                                filled=True)\n",
        "graphviz.Source(dot_data, format=\"png\") "
      ],
      "metadata": {
        "id": "CYYcf1us9SHN"
      },
      "execution_count": null,
      "outputs": []
    },
    {
      "cell_type": "code",
      "source": [
        "from dtreeviz.trees import dtreeviz # remember to load the package\n",
        "\n",
        "viz = dtreeviz(regr, X, y,\n",
        "                target_name=\"target\",\n",
        "                feature_names=boston.feature_names)\n",
        "viz"
      ],
      "metadata": {
        "id": "-zXrtHla9cZK"
      },
      "execution_count": null,
      "outputs": []
    },
    {
      "cell_type": "markdown",
      "source": [
        "## From above methods my favourite is visualizing with dtreeviz package. I like it becuause:\n",
        "\n",
        "###it shows the distribution of decision feature in the each node (nice!)\n",
        "###it shows the class-color matching legend\n",
        "###it shows the distribution of the class in the leaf in case of classification tasks, and mean of the leaf’s reponse in the case of regression tasks"
      ],
      "metadata": {
        "id": "3uhSfOse9lgq"
      }
    },
    {
      "cell_type": "code",
      "source": [
        ""
      ],
      "metadata": {
        "id": "cYzo8YHT9e1j"
      },
      "execution_count": null,
      "outputs": []
    }
  ]
}
