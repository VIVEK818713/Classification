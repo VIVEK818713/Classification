{
  "nbformat": 4,
  "nbformat_minor": 0,
  "metadata": {
    "colab": {
      "name": "1. SVM Regression.ipynb",
      "provenance": [],
      "collapsed_sections": [],
      "mount_file_id": "1vw8AWRm1KufQJ_QX55R3pt1smcRG4sQD",
      "authorship_tag": "ABX9TyN02zIX8Scdgz5Jyr3/7F/8",
      "include_colab_link": true
    },
    "kernelspec": {
      "name": "python3",
      "display_name": "Python 3"
    },
    "language_info": {
      "name": "python"
    }
  },
  "cells": [
    {
      "cell_type": "markdown",
      "metadata": {
        "id": "view-in-github",
        "colab_type": "text"
      },
      "source": [
        "<a href=\"https://colab.research.google.com/github/VIVEK818713/Classification/blob/main/1_SVM_Regression.ipynb\" target=\"_parent\"><img src=\"https://colab.research.google.com/assets/colab-badge.svg\" alt=\"Open In Colab\"/></a>"
      ]
    },
    {
      "cell_type": "markdown",
      "source": [
        "# Support Vector Machine(SVM)\n",
        "## SVM can solve both Regression & Classification Problem\n",
        "###  we use support vector regression rarely but most of the time we use support vector classification\n",
        "* For example if you want to pridict the wieght on age then you will use support vector regression\n",
        "* if you have many nformation of houses and you have to pridict price of house then use support vector regression\n",
        "* And if you have to classifyu male and female, cats and dogs , vegetable and fruits then use support vector classification\n",
        "### Let's start with support vector regression"
      ],
      "metadata": {
        "id": "-5_tF0KGif3e"
      }
    },
    {
      "cell_type": "code",
      "source": [
        "import pandas as pd\n"
      ],
      "metadata": {
        "id": "AyBeAkWojApZ"
      },
      "execution_count": null,
      "outputs": []
    },
    {
      "cell_type": "code",
      "source": [
        "df=pd.read_csv('/content/drive/MyDrive/Colab Notebooks/SVM/bangalore house price prediction OHE-data.csv')\n",
        "df.head()"
      ],
      "metadata": {
        "id": "rl604R6kAkF2"
      },
      "execution_count": null,
      "outputs": []
    },
    {
      "cell_type": "markdown",
      "source": [
        "### Split data set into X(independant) and Y (Dependant)"
      ],
      "metadata": {
        "id": "znooQ4FDBASJ"
      }
    },
    {
      "cell_type": "code",
      "source": [
        "X=df.drop('price',axis=1)\n",
        "Y=df['price']\n",
        "print('shape of X',X.shape)\n",
        "print('shape of Y',Y.shape)"
      ],
      "metadata": {
        "id": "5Fd3K9-UA48h"
      },
      "execution_count": null,
      "outputs": []
    },
    {
      "cell_type": "markdown",
      "source": [
        "### Now break data into X_train,X_test,y_train,y_test\n",
        "### For this purpose use \n",
        "  * from sklearn.model_selection import train_test_split"
      ],
      "metadata": {
        "id": "ltEyg0tIB016"
      }
    },
    {
      "cell_type": "code",
      "source": [
        "from sklearn.model_selection import train_test_split\n",
        "X_train,X_test,y_train,y_test=train_test_split(X,Y,test_size=0.2,random_state=51)\n",
        "print('shape of X_train',X_train.shape)\n",
        "print('shape of X_test',X_test.shape)\n",
        "print('shape of y_tarin',y_train.shape)\n",
        "print('shape of y_test',y_test.shape)"
      ],
      "metadata": {
        "id": "Eca7dCPlBrQh"
      },
      "execution_count": null,
      "outputs": []
    },
    {
      "cell_type": "markdown",
      "source": [
        "### For SVM we have to give scaled data\n",
        "### so now scale the data"
      ],
      "metadata": {
        "id": "o5PhcSWPDTqk"
      }
    },
    {
      "cell_type": "code",
      "source": [
        "from sklearn.preprocessing import StandardScaler\n",
        "sc=StandardScaler()\n",
        "sc.fit(X_train)\n",
        "X_train=sc.transform(X_train)\n",
        "X_test=sc.transform(X_test)"
      ],
      "metadata": {
        "id": "mJGbR3gRDKhz"
      },
      "execution_count": null,
      "outputs": []
    },
    {
      "cell_type": "markdown",
      "source": [
        "### Support vector Regression--ML Model"
      ],
      "metadata": {
        "id": "OOeEo3M3IkMn"
      }
    },
    {
      "cell_type": "code",
      "source": [
        "from sklearn.svm import SVR\n"
      ],
      "metadata": {
        "id": "4aWTCdgYIhOf"
      },
      "execution_count": null,
      "outputs": []
    },
    {
      "cell_type": "code",
      "source": [
        "svr_rbf=SVR(kernel='rbf')\n",
        "svr_rbf.fit(X_train,y_train)\n"
      ],
      "metadata": {
        "id": "QnvSqJteI6Ef"
      },
      "execution_count": null,
      "outputs": []
    },
    {
      "cell_type": "markdown",
      "source": [
        "### lets check the score"
      ],
      "metadata": {
        "id": "rbXLQh5XJmBS"
      }
    },
    {
      "cell_type": "code",
      "source": [
        "svr_rbf.score(X_test,y_test)"
      ],
      "metadata": {
        "id": "4Ved_spTJcDo"
      },
      "execution_count": null,
      "outputs": []
    },
    {
      "cell_type": "markdown",
      "source": [
        "### as you observe that our model accuracy is very low\n",
        "### what can we do now?\n",
        "### Ok we will change the kernel and check\n",
        "### whether the accuracy increased or not\n",
        "### we are taking linear kernel"
      ],
      "metadata": {
        "id": "L8IlIefBJ7YS"
      }
    },
    {
      "cell_type": "code",
      "source": [
        "svr_linear=SVR(kernel='linear')\n",
        "svr_linear.fit(X_train,y_train)\n",
        "svr_linear.score(X_test,y_test)"
      ],
      "metadata": {
        "id": "BveoAggEJ3UQ"
      },
      "execution_count": null,
      "outputs": []
    },
    {
      "cell_type": "markdown",
      "source": [
        "### Oh our accuracy is increased\n",
        "### let's check for another kernel\n",
        "### may be we get good accuracy\n",
        "### Let's check for polynomial kernel\n",
        "  ### But remember we have to mention degree in poly kernel\n",
        "  ### * Default degree is 3 but we will go with 2"
      ],
      "metadata": {
        "id": "U-_H_p6wKvnY"
      }
    },
    {
      "cell_type": "code",
      "source": [
        "svr_poly=SVR(kernel='poly',degree=2)\n",
        "svr_poly.fit(X_train,y_train)\n",
        "svr_poly.score(X_test,y_test)"
      ],
      "metadata": {
        "id": "jvgjONAQKebi"
      },
      "execution_count": null,
      "outputs": []
    },
    {
      "cell_type": "markdown",
      "source": [
        "### you can observe that accuracy is not good with polynomial kernel\n",
        "### and the very best accuracy is coming with linear kernel\n",
        "### you can change the hyper parameter and check the accuracy by yourself\n",
        "### Now we are going to pridict the value with our svm_linear model"
      ],
      "metadata": {
        "id": "-MlOwEX8LrW-"
      }
    },
    {
      "cell_type": "markdown",
      "source": [
        "### Pridict the value of house and test"
      ],
      "metadata": {
        "id": "aLGnJaroMNWv"
      }
    },
    {
      "cell_type": "markdown",
      "source": [
        "### The first data of house is X_test[0] means first row"
      ],
      "metadata": {
        "id": "i_l0S70IMUW0"
      }
    },
    {
      "cell_type": "code",
      "source": [
        "X_test[0]"
      ],
      "metadata": {
        "id": "967j7xyNLdcy"
      },
      "execution_count": null,
      "outputs": []
    },
    {
      "cell_type": "markdown",
      "source": [
        "### Pridiction of first house price"
      ],
      "metadata": {
        "id": "_QAS6XCuMzgO"
      }
    },
    {
      "cell_type": "code",
      "source": [
        "svr_linear.predict([X_test[0]])"
      ],
      "metadata": {
        "id": "csc6Meh2MfEj"
      },
      "execution_count": null,
      "outputs": []
    },
    {
      "cell_type": "markdown",
      "source": [
        "### pridict all house price in x_test\n",
        "### it will give pridicted houses price"
      ],
      "metadata": {
        "id": "B3edLDMwM4Xk"
      }
    },
    {
      "cell_type": "code",
      "source": [
        "y_pred=svr_linear.predict(X_test)\n",
        "y_pred"
      ],
      "metadata": {
        "id": "EdxumKRbMvZP"
      },
      "execution_count": null,
      "outputs": []
    },
    {
      "cell_type": "markdown",
      "source": [
        "### But what is actual value of houses"
      ],
      "metadata": {
        "id": "BlCFtYeQNSn-"
      }
    },
    {
      "cell_type": "code",
      "source": [
        "y_test"
      ],
      "metadata": {
        "id": "wT6v_s8WNAGK"
      },
      "execution_count": null,
      "outputs": []
    },
    {
      "cell_type": "markdown",
      "source": [
        "### Now our task is for root mean squre error value"
      ],
      "metadata": {
        "id": "1n4y2trANd4A"
      }
    },
    {
      "cell_type": "code",
      "source": [
        "from sklearn.metrics import mean_squared_error\n",
        "import numpy as np\n",
        "mse=mean_squared_error(y_test,y_pred)\n",
        "rmse=np.sqrt(mse)\n",
        "print('MSE',mse)\n",
        "print('RMSE',rmse)"
      ],
      "metadata": {
        "id": "nABq48A3NX4e"
      },
      "execution_count": null,
      "outputs": []
    },
    {
      "cell_type": "markdown",
      "source": [
        "### Remember we rarely use support vector regression\n",
        "### Most of the time we use support vector classification"
      ],
      "metadata": {
        "id": "_LyWpKKIOVWl"
      }
    },
    {
      "cell_type": "code",
      "source": [
        ""
      ],
      "metadata": {
        "id": "ac3o-ngDODn3"
      },
      "execution_count": null,
      "outputs": []
    }
  ]
}