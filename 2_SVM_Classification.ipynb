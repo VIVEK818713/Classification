{
  "nbformat": 4,
  "nbformat_minor": 0,
  "metadata": {
    "colab": {
      "name": "2. SVM Classification",
      "provenance": [],
      "mount_file_id": "1dtDOMLex0a1LTa2w_o8Wmh9B_xJVRQSO",
      "authorship_tag": "ABX9TyPZSVCPDe6FZgxxvA2gTTcw",
      "include_colab_link": true
    },
    "kernelspec": {
      "name": "python3",
      "display_name": "Python 3"
    },
    "language_info": {
      "name": "python"
    }
  },
  "cells": [
    {
      "cell_type": "markdown",
      "metadata": {
        "id": "view-in-github",
        "colab_type": "text"
      },
      "source": [
        "<a href=\"https://colab.research.google.com/github/VIVEK818713/Classification/blob/main/2_SVM_Classification.ipynb\" target=\"_parent\"><img src=\"https://colab.research.google.com/assets/colab-badge.svg\" alt=\"Open In Colab\"/></a>"
      ]
    },
    {
      "cell_type": "code",
      "execution_count": null,
      "metadata": {
        "id": "XA1N76r0PVYF"
      },
      "outputs": [],
      "source": [
        "import pandas as pd\n",
        "import numpy as np"
      ]
    },
    {
      "cell_type": "markdown",
      "source": [
        "### LOAD DATASET from SKLEARN\n",
        "\n",
        "### here we are taking very famous Breast cancer data set from sklearn\n",
        "### you can take any classification data set from any where\n"
      ],
      "metadata": {
        "id": "SiyTfmtqSKft"
      }
    },
    {
      "cell_type": "code",
      "source": [
        "from sklearn.datasets import load_breast_cancer\n",
        "dt=load_breast_cancer()"
      ],
      "metadata": {
        "id": "T1Go3PrjP9ar"
      },
      "execution_count": null,
      "outputs": []
    },
    {
      "cell_type": "markdown",
      "source": [
        "### Please understand we are taking data from sklearn\n",
        "### That data is in array form Let's check"
      ],
      "metadata": {
        "id": "Zrs2MwNBT8FA"
      }
    },
    {
      "cell_type": "code",
      "source": [
        "dt.data"
      ],
      "metadata": {
        "id": "h1xgxKQkT5Vj"
      },
      "execution_count": null,
      "outputs": []
    },
    {
      "cell_type": "markdown",
      "source": [
        "## If you want to check how many faeture or columns in our dataset"
      ],
      "metadata": {
        "id": "__FrOmUBURo5"
      }
    },
    {
      "cell_type": "code",
      "source": [
        "dt.feature_names"
      ],
      "metadata": {
        "id": "f1LXRzd9UPSy"
      },
      "execution_count": null,
      "outputs": []
    },
    {
      "cell_type": "markdown",
      "source": [
        "##now check the our target variable data"
      ],
      "metadata": {
        "id": "cV9YYv9LUzIt"
      }
    },
    {
      "cell_type": "code",
      "source": [
        "dt.target"
      ],
      "metadata": {
        "id": "3aG_vbgnUZhD"
      },
      "execution_count": null,
      "outputs": []
    },
    {
      "cell_type": "markdown",
      "source": [
        "## it may be you want to know the type of data"
      ],
      "metadata": {
        "id": "Sf8qSHFBU64W"
      }
    },
    {
      "cell_type": "code",
      "source": [
        "dt.target_names"
      ],
      "metadata": {
        "id": "iquH8tX1U40C"
      },
      "execution_count": null,
      "outputs": []
    },
    {
      "cell_type": "markdown",
      "source": [
        "## 'malignant' means cancer, --0\n",
        "## 'benign' means not cancer---1\n",
        "## you can get information about this using google"
      ],
      "metadata": {
        "id": "QM_3H00vVdkn"
      }
    },
    {
      "cell_type": "markdown",
      "source": [
        "## As we know our data set in the form of array\n",
        "## And we have to convert it into dataframe"
      ],
      "metadata": {
        "id": "kGgF8JbxV7PD"
      }
    },
    {
      "cell_type": "markdown",
      "source": [
        "## Before converting understand Numpy c_[ ] method\n",
        "##It is used to join two matrices by row, which is to add the two matrices left and right, and the number of rows is equal. \n",
        "## It is similar to the merge() function in pandas."
      ],
      "metadata": {
        "id": "gCPZZsHDXAoG"
      }
    },
    {
      "cell_type": "code",
      "source": [
        "import numpy as np\n",
        "arr = np.c_[np.array([[1,2,3]]), np.array([[4,5,6]])]\n",
        "print(arr)"
      ],
      "metadata": {
        "id": "GlUtCAJhX5yz"
      },
      "execution_count": null,
      "outputs": []
    },
    {
      "cell_type": "code",
      "source": [
        "import numpy as np\n",
        "arr = np.c_[np.array([[1,2,3]]),0, np.array([[4,5,6]])]\n",
        "print(arr)"
      ],
      "metadata": {
        "id": "F1fuiMFUX9rT"
      },
      "execution_count": null,
      "outputs": []
    },
    {
      "cell_type": "code",
      "source": [
        "import numpy as np\n",
        "arr = np.c_[np.array([[1,2,3]]),0,1, np.array([[4,5,6]])]\n",
        "print(arr)"
      ],
      "metadata": {
        "id": "jTCkfYAEYDFB"
      },
      "execution_count": null,
      "outputs": []
    },
    {
      "cell_type": "code",
      "source": [
        "import numpy as np\n",
        "a = np.ones((5))\n",
        "b = np.zeros((5,5))\n",
        "arr = np.c_[a,b]\n",
        "print(arr)"
      ],
      "metadata": {
        "id": "shzJ14zoYJJY"
      },
      "execution_count": null,
      "outputs": []
    },
    {
      "cell_type": "markdown",
      "source": [
        "### Now it is time to convert dataset into dataframe"
      ],
      "metadata": {
        "id": "5UPmfQ0VYa25"
      }
    },
    {
      "cell_type": "code",
      "source": [
        "df=pd.DataFrame(np.c_[dt.data,dt.target],columns=[list(dt.feature_names)+['target']])\n",
        "df.head()"
      ],
      "metadata": {
        "id": "GASTZ9fVVQ0r"
      },
      "execution_count": null,
      "outputs": []
    },
    {
      "cell_type": "code",
      "source": [
        "df.shape"
      ],
      "metadata": {
        "id": "jm_0x9fDYaQZ"
      },
      "execution_count": null,
      "outputs": []
    },
    {
      "cell_type": "markdown",
      "source": [
        "### Now split data"
      ],
      "metadata": {
        "id": "jPsiNlNrZ3Pg"
      }
    },
    {
      "cell_type": "code",
      "source": [
        "X=df.iloc[:,0:-1]\n",
        "Y=df.iloc[:,-1]\n",
        "#X=df.drop('target',axis=1)\n",
        "#Y=df['target']"
      ],
      "metadata": {
        "id": "YcMufa0vZvaf"
      },
      "execution_count": null,
      "outputs": []
    },
    {
      "cell_type": "code",
      "source": [
        "from sklearn.model_selection import train_test_split\n",
        "X_train,X_test,y_train,y_test=train_test_split(X,Y,test_size=0.2,random_state=2020)\n",
        "print('Shape of X_tarin',X_train.shape)\n",
        "print('Shape of y_tarin',y_train.shape)\n",
        "print('Shape of X_test',X_test.shape)\n",
        "print('Shape of y_tset',y_test.shape)"
      ],
      "metadata": {
        "id": "oSBMjq17aG9F"
      },
      "execution_count": null,
      "outputs": []
    },
    {
      "cell_type": "markdown",
      "source": [
        "## Train Support Vector classification Model"
      ],
      "metadata": {
        "id": "yvAq9xMVa6LQ"
      }
    },
    {
      "cell_type": "code",
      "source": [
        "from sklearn.svm import SVC\n"
      ],
      "metadata": {
        "id": "RZtEnQpFawBa"
      },
      "execution_count": null,
      "outputs": []
    },
    {
      "cell_type": "code",
      "source": [
        "svc_rbf=SVC(kernel='rbf',) # Here we are taking default value\n",
        "svc_rbf.fit(X_train,y_train)"
      ],
      "metadata": {
        "id": "d3Oabzp2gZoV"
      },
      "execution_count": null,
      "outputs": []
    },
    {
      "cell_type": "code",
      "source": [
        "svc_rbf.score(X_test,y_test)"
      ],
      "metadata": {
        "id": "bkF6G7lOg3PF"
      },
      "execution_count": null,
      "outputs": []
    },
    {
      "cell_type": "markdown",
      "source": [
        "### As you observe that accuracy is very good\n",
        "### But But But \n",
        "### If you are working on medical data then this accuarcy is not so good\n",
        "### Because in medical we need 99.99% accurate if possible\n",
        "### Otherwise a patient may be not having cancer but our model will pridict he/she as cancer patient and vice-versa"
      ],
      "metadata": {
        "id": "dLbimlWohLFd"
      }
    },
    {
      "cell_type": "markdown",
      "source": [
        "### Please note that here we are doing only implimentation part. we are not going to make it acccrate"
      ],
      "metadata": {
        "id": "aJ2nfEjVh50H"
      }
    },
    {
      "cell_type": "markdown",
      "source": [
        "## One more thing\n",
        "### when you are working with SVM then your data must be scaled so now we will scale our data\n",
        "### If we did not provide the scaled data then may be it give poor accuracy\n",
        "### so we will scale our data and check whether it improve our accuray or not"
      ],
      "metadata": {
        "id": "2XCcFQHciFQt"
      }
    },
    {
      "cell_type": "markdown",
      "source": [
        "### Feature scaling"
      ],
      "metadata": {
        "id": "s9XYSesqi4RB"
      }
    },
    {
      "cell_type": "code",
      "source": [
        "from sklearn.preprocessing import StandardScaler\n",
        "sc=StandardScaler()\n",
        "sc.fit(X_train)"
      ],
      "metadata": {
        "id": "iMJAjRcghGQr"
      },
      "execution_count": null,
      "outputs": []
    },
    {
      "cell_type": "code",
      "source": [
        "X_train_sc=sc.transform(X_train)\n",
        "X_test_sc=sc.transform(X_test)"
      ],
      "metadata": {
        "id": "Ys70nswYjPDo"
      },
      "execution_count": null,
      "outputs": []
    },
    {
      "cell_type": "markdown",
      "source": [
        "### Let's train one more time our new model on scaled data"
      ],
      "metadata": {
        "id": "rsFuz8CSjtKJ"
      }
    },
    {
      "cell_type": "code",
      "source": [
        "svc_rbf_2=SVC(kernel='rbf') # Here we are taking default value\n",
        "svc_rbf_2.fit(X_train_sc,y_train)"
      ],
      "metadata": {
        "id": "TSyT9537jdzj"
      },
      "execution_count": null,
      "outputs": []
    },
    {
      "cell_type": "markdown",
      "source": [
        "### check the score"
      ],
      "metadata": {
        "id": "RENEHOofkqA2"
      }
    },
    {
      "cell_type": "code",
      "source": [
        "svc_rbf_2.score(X_test_sc,y_test)"
      ],
      "metadata": {
        "id": "b4wu7x2bko_S"
      },
      "execution_count": null,
      "outputs": []
    },
    {
      "cell_type": "markdown",
      "source": [
        "* as you see accuracy increased"
      ],
      "metadata": {
        "id": "OwHdlTh6lDVz"
      }
    },
    {
      "cell_type": "markdown",
      "source": [
        "### Let's try with POLY kernel and check the **Accracy**"
      ],
      "metadata": {
        "id": "5VJO357jlLDW"
      }
    },
    {
      "cell_type": "code",
      "source": [
        "svc_poly_2=SVC(kernel='poly',degree=3) \n",
        "svc_poly_2.fit(X_train_sc,y_train)\n",
        "svc_poly_2.score(X_test_sc,y_test)"
      ],
      "metadata": {
        "id": "qDoBr6-3lSV0"
      },
      "execution_count": null,
      "outputs": []
    },
    {
      "cell_type": "markdown",
      "source": [
        "### it is not good accuracy"
      ],
      "metadata": {
        "id": "ZeyhTZ2fl-hW"
      }
    },
    {
      "cell_type": "markdown",
      "source": [
        "## Let's try for another kernel which is Linear kernal"
      ],
      "metadata": {
        "id": "K4_vGC8-mCeo"
      }
    },
    {
      "cell_type": "code",
      "source": [
        "svc_linear_2=SVC(kernel='linear') \n",
        "svc_linear_2.fit(X_train_sc,y_train)\n",
        "svc_linear_2.score(X_test_sc,y_test)"
      ],
      "metadata": {
        "id": "iiw3jSubk5NO"
      },
      "execution_count": null,
      "outputs": []
    },
    {
      "cell_type": "markdown",
      "source": [
        "### This is very good accuracy so we can go with svc_linear_2 model\n",
        "### And we can deploy it in production"
      ],
      "metadata": {
        "id": "1BufOH_CmVwn"
      }
    },
    {
      "cell_type": "markdown",
      "source": [
        "### Now pridict the value\n",
        "### take first patient value for cancer"
      ],
      "metadata": {
        "id": "ZyRU1eg9mh6k"
      }
    },
    {
      "cell_type": "code",
      "source": [
        "patient1=X_test.iloc[0].tolist()\n",
        "patient1"
      ],
      "metadata": {
        "id": "W8pdbPsPnmVo"
      },
      "execution_count": null,
      "outputs": []
    },
    {
      "cell_type": "markdown",
      "source": [
        "* Here may be this data comes from unknown patient\n",
        "* So data is not scaled \n",
        "* so before pridiction we have to scale it then pridict"
      ],
      "metadata": {
        "id": "qZmH6LHyqx4I"
      }
    },
    {
      "cell_type": "code",
      "source": [
        "patient1_sc=sc.transform(np.array([patient1]))\n",
        "patient1_sc"
      ],
      "metadata": {
        "id": "nOSUQNSCnPn1"
      },
      "execution_count": null,
      "outputs": []
    },
    {
      "cell_type": "markdown",
      "source": [
        "### here we scaled the data \n",
        "### Now we can pridict the target value"
      ],
      "metadata": {
        "id": "z4r7BIstrahd"
      }
    },
    {
      "cell_type": "code",
      "source": [
        "svc_linear_2.predict(patient1_sc)"
      ],
      "metadata": {
        "id": "-b00meWorYRX"
      },
      "execution_count": null,
      "outputs": []
    },
    {
      "cell_type": "markdown",
      "source": [
        "* 0 means malignant\n",
        "* if you want to check then \n",
        "* malignant is at 0 index\n",
        "* benign is at 1 index\n",
        "* Let's check"
      ],
      "metadata": {
        "id": "834g4WoTrxE9"
      }
    },
    {
      "cell_type": "code",
      "source": [
        "  dt.target_names"
      ],
      "metadata": {
        "id": "c3SRkHeJrnqx"
      },
      "execution_count": null,
      "outputs": []
    },
    {
      "cell_type": "markdown",
      "source": [
        "### Lets do something informative"
      ],
      "metadata": {
        "id": "1ZQTaNiTsZJW"
      }
    },
    {
      "cell_type": "code",
      "source": [
        "pred=svc_linear_2.predict(patient1_sc)"
      ],
      "metadata": {
        "id": "1q7zRhe5sLm7"
      },
      "execution_count": null,
      "outputs": []
    },
    {
      "cell_type": "code",
      "source": [
        "if pred[0]==0:\n",
        "  print(\"Patient has cancer\")\n",
        "else:\n",
        "  print(\"patient dont have cancer\")"
      ],
      "metadata": {
        "id": "haAZbl53skod"
      },
      "execution_count": null,
      "outputs": []
    },
    {
      "cell_type": "code",
      "source": [
        ""
      ],
      "metadata": {
        "id": "iIC7fOAXs4Fg"
      },
      "execution_count": null,
      "outputs": []
    }
  ]
}