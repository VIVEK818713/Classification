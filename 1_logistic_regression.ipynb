{
  "nbformat": 4,
  "nbformat_minor": 0,
  "metadata": {
    "colab": {
      "name": "1.logistic regression",
      "provenance": [],
      "collapsed_sections": [],
      "mount_file_id": "10rna2CRx9RTtIw_LnLLU_v_9bb6xizTe",
      "authorship_tag": "ABX9TyMK1gtrcmE0QoitXBSc+BZz",
      "include_colab_link": true
    },
    "kernelspec": {
      "name": "python3",
      "display_name": "Python 3"
    }
  },
  "cells": [
    {
      "cell_type": "markdown",
      "metadata": {
        "id": "view-in-github",
        "colab_type": "text"
      },
      "source": [
        "<a href=\"https://colab.research.google.com/github/VIVEK818713/Classification/blob/main/1_logistic_regression.ipynb\" target=\"_parent\"><img src=\"https://colab.research.google.com/assets/colab-badge.svg\" alt=\"Open In Colab\"/></a>"
      ]
    },
    {
      "cell_type": "markdown",
      "metadata": {
        "id": "FigzLqTxwRgd"
      },
      "source": [
        "### Logistic regression"
      ]
    },
    {
      "cell_type": "code",
      "source": [
        "import pandas as pd\n",
        "import numpy as np\n",
        "import matplotlib.pyplot as plt"
      ],
      "metadata": {
        "id": "-m1s7Q7R6DHZ"
      },
      "execution_count": null,
      "outputs": []
    },
    {
      "cell_type": "code",
      "source": [
        "df=pd.read_csv(\"/content/drive/MyDrive/Colab Notebooks/Classification/Logistic Regression/insur.csv\")\n",
        "df.head()"
      ],
      "metadata": {
        "id": "8w_2x3lp6PxJ"
      },
      "execution_count": null,
      "outputs": []
    },
    {
      "cell_type": "markdown",
      "source": [
        "## Now check the data distribution for the data set"
      ],
      "metadata": {
        "id": "t3eIVZ5Fwktr"
      }
    },
    {
      "cell_type": "code",
      "source": [
        "plt.scatter(df.age,df.insurance,marker='*')"
      ],
      "metadata": {
        "id": "bxqAGEog6PlG",
        "colab": {
          "base_uri": "https://localhost:8080/",
          "height": 282
        },
        "outputId": "4076c67c-3c42-4a7b-f1f4-b3f10eee2667"
      },
      "execution_count": null,
      "outputs": [
        {
          "output_type": "execute_result",
          "data": {
            "text/plain": [
              "<matplotlib.collections.PathCollection at 0x7f8bb7716b90>"
            ]
          },
          "metadata": {},
          "execution_count": 3
        },
        {
          "output_type": "display_data",
          "data": {
            "text/plain": [
              "<Figure size 432x288 with 1 Axes>"
            ],
            "image/png": "[encoded data removed]"
          },
          "metadata": {
            "needs_background": "light"
          }
        }
      ]
    },
    {
      "cell_type": "markdown",
      "source": [
        "## Split the data set in train and test"
      ],
      "metadata": {
        "id": "_dA0_iMlxUMe"
      }
    },
    {
      "cell_type": "code",
      "source": [
        "from sklearn.model_selection import train_test_split\n",
        "X_train,X_test,y_train,y_test=train_test_split(df[['age']],df.insurance,test_size=.2)"
      ],
      "metadata": {
        "id": "ixrb39IW6PbR"
      },
      "execution_count": null,
      "outputs": []
    },
    {
      "cell_type": "markdown",
      "source": [
        "## import Logistic Regression class from sklearn"
      ],
      "metadata": {
        "id": "Y6fCGpuvyMLQ"
      }
    },
    {
      "cell_type": "code",
      "source": [
        "from sklearn.linear_model import LogisticRegression"
      ],
      "metadata": {
        "id": "4zWJCfrN6PSN"
      },
      "execution_count": null,
      "outputs": []
    },
    {
      "cell_type": "markdown",
      "source": [
        "## create object for Logistic Regression "
      ],
      "metadata": {
        "id": "Iv0SwiuEyUHI"
      }
    },
    {
      "cell_type": "code",
      "source": [
        "model=LogisticRegression()"
      ],
      "metadata": {
        "id": "R0nsEoWe6PIS"
      },
      "execution_count": null,
      "outputs": []
    },
    {
      "cell_type": "markdown",
      "source": [
        "## Now it's time for fitting our model on Training data"
      ],
      "metadata": {
        "id": "-GDLhxSOyZ_r"
      }
    },
    {
      "cell_type": "code",
      "source": [
        "model.fit(X_train,y_train)"
      ],
      "metadata": {
        "id": "bUS_9F156O9A",
        "colab": {
          "base_uri": "https://localhost:8080/"
        },
        "outputId": "802fefba-a696-4f5d-9586-8b621b585599"
      },
      "execution_count": null,
      "outputs": [
        {
          "output_type": "execute_result",
          "data": {
            "text/plain": [
              "LogisticRegression()"
            ]
          },
          "metadata": {},
          "execution_count": 7
        }
      ]
    },
    {
      "cell_type": "markdown",
      "source": [
        "## Predict the X_test "
      ],
      "metadata": {
        "id": "8KSlHsLWyhFJ"
      }
    },
    {
      "cell_type": "code",
      "source": [
        "model.predict(X_test)"
      ],
      "metadata": {
        "id": "L6q5F3Pv9rST",
        "colab": {
          "base_uri": "https://localhost:8080/"
        },
        "outputId": "fb424e95-72c4-4c23-e6af-f5675970b233"
      },
      "execution_count": null,
      "outputs": [
        {
          "output_type": "execute_result",
          "data": {
            "text/plain": [
              "array([1, 1, 1, 1, 1])"
            ]
          },
          "metadata": {},
          "execution_count": 8
        }
      ]
    },
    {
      "cell_type": "markdown",
      "source": [
        "## Check Accuracy\n",
        "## accuracy will be very low because of data size. our data size is very less in quantity."
      ],
      "metadata": {
        "id": "XQbnN9jBynil"
      }
    },
    {
      "cell_type": "code",
      "source": [
        "model.score(X_test,y_test)"
      ],
      "metadata": {
        "id": "1Qgzawat-GLD",
        "colab": {
          "base_uri": "https://localhost:8080/"
        },
        "outputId": "1f31ee72-8e52-43a6-b3fb-654d9fa7bd02"
      },
      "execution_count": null,
      "outputs": [
        {
          "output_type": "execute_result",
          "data": {
            "text/plain": [
              "0.4"
            ]
          },
          "metadata": {},
          "execution_count": 9
        }
      ]
    },
    {
      "cell_type": "markdown",
      "source": [
        "## predict_proba will give you probabilty of X_test data if the probabilty is greater or equal to 0.5 then it will belong to class B otherwise class A."
      ],
      "metadata": {
        "id": "2eUODf-KyswD"
      }
    },
    {
      "cell_type": "code",
      "source": [
        "model.predict_proba(X_test)"
      ],
      "metadata": {
        "id": "JEKfamgb9rIy",
        "colab": {
          "base_uri": "https://localhost:8080/"
        },
        "outputId": "9e848b80-0d4b-4539-fbd2-954a89296e42"
      },
      "execution_count": null,
      "outputs": [
        {
          "output_type": "execute_result",
          "data": {
            "text/plain": [
              "array([[0.24343984, 0.75656016],\n",
              "       [0.43880575, 0.56119425],\n",
              "       [0.304811  , 0.695189  ],\n",
              "       [0.25861226, 0.74138774],\n",
              "       [0.40275621, 0.59724379]])"
            ]
          },
          "metadata": {},
          "execution_count": 11
        }
      ]
    },
    {
      "cell_type": "code",
      "source": [
        "model.predict([[5]])"
      ],
      "metadata": {
        "id": "JNABvvMK-Q-4",
        "colab": {
          "base_uri": "https://localhost:8080/"
        },
        "outputId": "f9367a83-5b85-4fdd-8d4d-4bdda07c58e7"
      },
      "execution_count": null,
      "outputs": [
        {
          "output_type": "stream",
          "name": "stderr",
          "text": [
            "/usr/local/lib/python3.7/dist-packages/sklearn/base.py:451: UserWarning: X does not have valid feature names, but LogisticRegression was fitted with feature names\n",
            "  \"X does not have valid feature names, but\"\n"
          ]
        },
        {
          "output_type": "execute_result",
          "data": {
            "text/plain": [
              "array([1])"
            ]
          },
          "metadata": {},
          "execution_count": 12
        }
      ]
    },
    {
      "cell_type": "markdown",
      "source": [
        "## Problem 2"
      ],
      "metadata": {
        "id": "weFC_tr0r5Yu"
      }
    },
    {
      "cell_type": "code",
      "metadata": {
        "id": "PdjVn2NdwjdM"
      },
      "source": [
        "import pandas as pd"
      ],
      "execution_count": null,
      "outputs": []
    },
    {
      "cell_type": "code",
      "metadata": {
        "id": "LxrZDHPLwNyT"
      },
      "source": [
        "data=pd.read_csv(\"/content/drive/MyDrive/Colab Notebooks/Classification/Logistic Regression/logistic regression 01.csv\")\n",
        "data.head()"
      ],
      "execution_count": null,
      "outputs": []
    },
    {
      "cell_type": "markdown",
      "source": [
        "## here we are going to create a copy of our dataset"
      ],
      "metadata": {
        "id": "topUSI8NztnO"
      }
    },
    {
      "cell_type": "code",
      "metadata": {
        "id": "si-nznoAxEk7"
      },
      "source": [
        "df=data.copy()"
      ],
      "execution_count": null,
      "outputs": []
    },
    {
      "cell_type": "markdown",
      "source": [
        "## Now let's check wheteher there is any missing value or not"
      ],
      "metadata": {
        "id": "GOi8pmt1z5Zl"
      }
    },
    {
      "cell_type": "code",
      "metadata": {
        "id": "l1UwUmaCyEjh",
        "colab": {
          "base_uri": "https://localhost:8080/"
        },
        "outputId": "487590ad-cdc9-4437-891d-71eec3a965b0"
      },
      "source": [
        "df.isnull().sum(axis=0)"
      ],
      "execution_count": null,
      "outputs": [
        {
          "output_type": "execute_result",
          "data": {
            "text/plain": [
              "gender     13\n",
              "married     3\n",
              "ch         50\n",
              "income      0\n",
              "loanamt    22\n",
              "status      0\n",
              "dtype: int64"
            ]
          },
          "metadata": {},
          "execution_count": 15
        }
      ]
    },
    {
      "cell_type": "markdown",
      "source": [
        "## For simplicity we are drop all nan values. But if you have good domain knowledge then please fill nan value by yourself."
      ],
      "metadata": {
        "id": "cHLcN9zS0Ezd"
      }
    },
    {
      "cell_type": "code",
      "metadata": {
        "id": "F6X8dZLlyIOe"
      },
      "source": [
        "df=df.dropna()"
      ],
      "execution_count": null,
      "outputs": []
    },
    {
      "cell_type": "code",
      "metadata": {
        "id": "VkD3Rh2cyVfE"
      },
      "source": [
        "data_prep.isnull().sum()"
      ],
      "execution_count": null,
      "outputs": []
    },
    {
      "cell_type": "code",
      "metadata": {
        "id": "Hl1VT08Rg1oi"
      },
      "source": [
        "data_prep=data_prep.drop(['gender'],axis=1)"
      ],
      "execution_count": null,
      "outputs": []
    },
    {
      "cell_type": "code",
      "metadata": {
        "id": "OVNmGdOjhbXV"
      },
      "source": [
        "data_prep.head()"
      ],
      "execution_count": null,
      "outputs": []
    },
    {
      "cell_type": "code",
      "metadata": {
        "id": "iJknfSXtygwT"
      },
      "source": [
        "data_prep=pd.get_dummies(data_prep,drop_first=True)\n",
        "data_prep.head()"
      ],
      "execution_count": null,
      "outputs": []
    },
    {
      "cell_type": "code",
      "metadata": {
        "id": "BSloTdG-zSlI"
      },
      "source": [
        "data_prep.dtypes"
      ],
      "execution_count": null,
      "outputs": []
    },
    {
      "cell_type": "code",
      "metadata": {
        "id": "c5JniKQ9zZcc"
      },
      "source": [
        "from sklearn.preprocessing import StandardScaler"
      ],
      "execution_count": null,
      "outputs": []
    },
    {
      "cell_type": "code",
      "metadata": {
        "id": "ppwh0PK0zomF"
      },
      "source": [
        "data_prep_scale=StandardScaler()"
      ],
      "execution_count": null,
      "outputs": []
    },
    {
      "cell_type": "code",
      "metadata": {
        "id": "fqY6v8Uaz1TW"
      },
      "source": [
        "data_prep['income']=data_prep_scale.fit_transform(data_prep[['income']])\n",
        "data_prep['loanamt']=data_prep_scale.fit_transform(data_prep[['loanamt']])"
      ],
      "execution_count": null,
      "outputs": []
    },
    {
      "cell_type": "code",
      "metadata": {
        "id": "G7mckBW80ZEK"
      },
      "source": [
        "data_prep.head()"
      ],
      "execution_count": null,
      "outputs": []
    },
    {
      "cell_type": "code",
      "metadata": {
        "id": "xrz9MSVl0kXs"
      },
      "source": [
        "X=data_prep.drop(['status_Y'],axis=1)"
      ],
      "execution_count": null,
      "outputs": []
    },
    {
      "cell_type": "code",
      "metadata": {
        "id": "mKVM0vS11Ajn"
      },
      "source": [
        "Y=data_prep['status_Y']"
      ],
      "execution_count": null,
      "outputs": []
    },
    {
      "cell_type": "code",
      "metadata": {
        "id": "RlvnfqIQ1KRX"
      },
      "source": [
        "print(type(X))\n",
        "print(X.shape)"
      ],
      "execution_count": null,
      "outputs": []
    },
    {
      "cell_type": "code",
      "metadata": {
        "id": "K_gFfj091Mxg"
      },
      "source": [
        "print(type(Y))\n",
        "print(Y.shape)"
      ],
      "execution_count": null,
      "outputs": []
    },
    {
      "cell_type": "code",
      "metadata": {
        "id": "8nkubdbA1Q36"
      },
      "source": [
        "from sklearn.model_selection import train_test_split"
      ],
      "execution_count": null,
      "outputs": []
    },
    {
      "cell_type": "code",
      "metadata": {
        "id": "waPlxtXR1leV"
      },
      "source": [
        "X_train,X_test,Y_train,Y_test=train_test_split(X,Y,test_size=0.3,random_state=123)"
      ],
      "execution_count": null,
      "outputs": []
    },
    {
      "cell_type": "code",
      "metadata": {
        "id": "wucjLcH411MB"
      },
      "source": [
        "from sklearn.linear_model import LogisticRegression\n",
        "Logreg=LogisticRegression()\n",
        "model=Logreg.fit(X_train,Y_train)"
      ],
      "execution_count": null,
      "outputs": []
    },
    {
      "cell_type": "code",
      "metadata": {
        "id": "A6QMWyii2TGE"
      },
      "source": [
        "model.score(X_train,Y_train)"
      ],
      "execution_count": null,
      "outputs": []
    },
    {
      "cell_type": "code",
      "metadata": {
        "id": "Oy0GDhad3ZTN"
      },
      "source": [
        "model.score(X_test,Y_test)"
      ],
      "execution_count": null,
      "outputs": []
    },
    {
      "cell_type": "code",
      "metadata": {
        "id": "o_WEpbkt3nJ4"
      },
      "source": [
        "y_pred=model.predict(X_test)"
      ],
      "execution_count": null,
      "outputs": []
    },
    {
      "cell_type": "code",
      "metadata": {
        "id": "MVeQonuc4IRl"
      },
      "source": [
        "y_pred"
      ],
      "execution_count": null,
      "outputs": []
    },
    {
      "cell_type": "code",
      "metadata": {
        "id": "j1UPE_K04Kbc"
      },
      "source": [
        "Y_test"
      ],
      "execution_count": null,
      "outputs": []
    },
    {
      "cell_type": "code",
      "metadata": {
        "id": "ylG00v6C4PYL"
      },
      "source": [
        "from sklearn.metrics import confusion_matrix\n",
        "cm=confusion_matrix(Y_test,y_pred)\n",
        "print(cm)"
      ],
      "execution_count": null,
      "outputs": []
    },
    {
      "cell_type": "code",
      "metadata": {
        "id": "FTc4Afc-4wfn"
      },
      "source": [
        "import seaborn as sns"
      ],
      "execution_count": null,
      "outputs": []
    },
    {
      "cell_type": "code",
      "source": [
        "sns.heatmap(cm,annot=True)"
      ],
      "metadata": {
        "id": "IwHwqFOI-km0"
      },
      "execution_count": null,
      "outputs": []
    },
    {
      "cell_type": "markdown",
      "source": [
        "## Multiclass classification using ligistic Regression"
      ],
      "metadata": {
        "id": "Pepy133kjp7t"
      }
    },
    {
      "cell_type": "code",
      "source": [
        "from sklearn.datasets import load_digits\n",
        "import matplotlib.pyplot as plt\n"
      ],
      "metadata": {
        "id": "FOZ_Ipxrjxvm"
      },
      "execution_count": null,
      "outputs": []
    },
    {
      "cell_type": "code",
      "source": [
        "digits = load_digits()"
      ],
      "metadata": {
        "id": "m6P2TepLjxry"
      },
      "execution_count": null,
      "outputs": []
    },
    {
      "cell_type": "code",
      "source": [
        "digits.data[0]"
      ],
      "metadata": {
        "id": "WM1wpnKzkYee"
      },
      "execution_count": null,
      "outputs": []
    },
    {
      "cell_type": "code",
      "source": [
        "plt.gray()\n",
        "for i in range(5):\n",
        "    plt.matshow(digits.images[i]) "
      ],
      "metadata": {
        "id": "udSlx-bSjxnf"
      },
      "execution_count": null,
      "outputs": []
    },
    {
      "cell_type": "code",
      "source": [
        "digits.target[0:5]"
      ],
      "metadata": {
        "id": "thDF2DyjlLs9"
      },
      "execution_count": null,
      "outputs": []
    },
    {
      "cell_type": "code",
      "source": [
        "from sklearn.model_selection import train_test_split"
      ],
      "metadata": {
        "id": "v_pHzn0UlgDZ"
      },
      "execution_count": null,
      "outputs": []
    },
    {
      "cell_type": "code",
      "source": [
        "X_train, X_test, y_train, y_test = train_test_split(digits.data,digits.target, test_size=0.2)"
      ],
      "metadata": {
        "id": "4cm-Z_mtlhFd"
      },
      "execution_count": null,
      "outputs": []
    },
    {
      "cell_type": "code",
      "source": [
        "from sklearn.linear_model import LogisticRegression\n",
        "model = LogisticRegression()"
      ],
      "metadata": {
        "id": "lGHeWzkqjxlO"
      },
      "execution_count": null,
      "outputs": []
    },
    {
      "cell_type": "code",
      "source": [
        "model.fit(X_train, y_train)"
      ],
      "metadata": {
        "id": "owx01UnMjxiE"
      },
      "execution_count": null,
      "outputs": []
    },
    {
      "cell_type": "code",
      "source": [
        "model.score(X_test, y_test)"
      ],
      "metadata": {
        "id": "REvCCwrZjxcz"
      },
      "execution_count": null,
      "outputs": []
    },
    {
      "cell_type": "code",
      "source": [
        "plt.matshow(digits.images[67])"
      ],
      "metadata": {
        "id": "6ewpSBd1mZ4c"
      },
      "execution_count": null,
      "outputs": []
    },
    {
      "cell_type": "code",
      "source": [
        "digits.target[67]"
      ],
      "metadata": {
        "id": "uxS3btRomkB8"
      },
      "execution_count": null,
      "outputs": []
    },
    {
      "cell_type": "code",
      "source": [
        "model.predict([digits.data[67]])"
      ],
      "metadata": {
        "id": "5se52tXQmvur"
      },
      "execution_count": null,
      "outputs": []
    },
    {
      "cell_type": "code",
      "source": [
        "model.predict(digits.data[0:5])"
      ],
      "metadata": {
        "id": "a98OUWaAjxax"
      },
      "execution_count": null,
      "outputs": []
    },
    {
      "cell_type": "code",
      "source": [
        "y_predicted = model.predict(X_test)"
      ],
      "metadata": {
        "id": "mq9CW6I6jxW0"
      },
      "execution_count": null,
      "outputs": []
    },
    {
      "cell_type": "code",
      "source": [
        "from sklearn.metrics import confusion_matrix\n",
        "cm = confusion_matrix(y_test, y_predicted)\n",
        "cm"
      ],
      "metadata": {
        "id": "W68fj5MCjxTS"
      },
      "execution_count": null,
      "outputs": []
    },
    {
      "cell_type": "code",
      "source": [
        "import seaborn as sn\n",
        "plt.figure(figsize = (10,7))\n",
        "sn.heatmap(cm, annot=True)\n",
        "plt.xlabel('Predicted')\n",
        "plt.ylabel('Truth')"
      ],
      "metadata": {
        "id": "W5tcjXu_jxKh"
      },
      "execution_count": null,
      "outputs": []
    },
    {
      "cell_type": "code",
      "source": [
        ""
      ],
      "metadata": {
        "id": "w8b3ANLdjw_k"
      },
      "execution_count": null,
      "outputs": []
    },
    {
      "cell_type": "code",
      "source": [
        ""
      ],
      "metadata": {
        "id": "Ceev8LxMjwzl"
      },
      "execution_count": null,
      "outputs": []
    }
  ]
}